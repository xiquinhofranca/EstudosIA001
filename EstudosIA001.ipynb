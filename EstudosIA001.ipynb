{
  "nbformat": 4,
  "nbformat_minor": 0,
  "metadata": {
    "colab": {
      "provenance": [],
      "authorship_tag": "ABX9TyMqpBsjC/CgfUbxbvfhGhOG",
      "include_colab_link": true
    },
    "kernelspec": {
      "name": "python3",
      "display_name": "Python 3"
    },
    "language_info": {
      "name": "python"
    }
  },
  "cells": [
    {
      "cell_type": "markdown",
      "metadata": {
        "id": "view-in-github",
        "colab_type": "text"
      },
      "source": [
        "<a href=\"https://colab.research.google.com/github/xiquinhofranca/EstudosIA001/blob/main/EstudosIA001.ipynb\" target=\"_parent\"><img src=\"https://colab.research.google.com/assets/colab-badge.svg\" alt=\"Open In Colab\"/></a>"
      ]
    },
    {
      "cell_type": "markdown",
      "source": [
        "Instalando o SKD do Google"
      ],
      "metadata": {
        "id": "oYCq_pWLwkwo"
      }
    },
    {
      "cell_type": "code",
      "execution_count": 1,
      "metadata": {
        "id": "oAuFwKWmvp2D"
      },
      "outputs": [],
      "source": [
        "pip install -q -U google-generativeai"
      ]
    },
    {
      "cell_type": "code",
      "source": [
        "import google.generativeai as genai\n",
        "from google.colab import userdata\n",
        "api_key = userdata.get('SECRET_KEY')\n",
        "#GOOGLE_API_KEY=\"ZAIzaSyCtialy2gpzgdKGFeQA29w-tZbDFZVaSaE\"\n",
        "genai.configure(api_key=api_key)"
      ],
      "metadata": {
        "id": "UF5WYhP1xFtV"
      },
      "execution_count": 24,
      "outputs": []
    },
    {
      "cell_type": "markdown",
      "source": [
        "Listar modelos disponíveis que possam gerar conteúdos\n",
        "Desta forma saberemos qual o modelo ideal para o meu tipo de pesquisa"
      ],
      "metadata": {
        "id": "kXPf_1oufHQs"
      }
    },
    {
      "cell_type": "markdown",
      "source": [
        "Listar modelos disponíveis que possam gerar conteúdos\n",
        "Desta forma saberemos qual o modelo ideal para o meu tipo de pesquisa"
      ],
      "metadata": {
        "id": "qZ9Hei0ezeL0"
      }
    },
    {
      "cell_type": "code",
      "source": [
        "for m in genai.list_models():\n",
        "  if 'generateContent' in m.supported_generation_methods:\n",
        "    print(m.name)"
      ],
      "metadata": {
        "colab": {
          "base_uri": "https://localhost:8080/",
          "height": 139
        },
        "id": "qVDVFUZJyEC3",
        "outputId": "3e594ffa-1771-4645-d3f9-303b438870ec"
      },
      "execution_count": 3,
      "outputs": [
        {
          "output_type": "stream",
          "name": "stdout",
          "text": [
            "models/gemini-1.0-pro\n",
            "models/gemini-1.0-pro-001\n",
            "models/gemini-1.0-pro-latest\n",
            "models/gemini-1.0-pro-vision-latest\n",
            "models/gemini-1.5-pro-latest\n",
            "models/gemini-pro\n",
            "models/gemini-pro-vision\n"
          ]
        }
      ]
    },
    {
      "cell_type": "markdown",
      "source": [
        "Gemini Pro -- Envia prompt apenas de textos (versão estável)\n",
        "Gemini Pro Vision -- Multimodalidade - Imagem Textos Vídeo ao mesmo tempo\n"
      ],
      "metadata": {
        "id": "idqs3jDy1BGx"
      }
    },
    {
      "cell_type": "code",
      "source": [
        "generation_config = {\n",
        "    \"candidate_count\": 1,\n",
        "    \"temperature\": 0.5,\n",
        "}"
      ],
      "metadata": {
        "id": "mcrqWH-z0sXU"
      },
      "execution_count": 4,
      "outputs": []
    },
    {
      "cell_type": "code",
      "source": [
        "safety_settings = {\n",
        "    \"HARASSMENT\": \"BLOCK_NONE\",\n",
        "    \"HATE\": \"BLOCK_NONE\",\n",
        "    \"SEXUAL\": \"BLOCK_NONE\",\n",
        "    \"DANGEROUS\": \"BLOCK_NONE\",\n",
        "}"
      ],
      "metadata": {
        "id": "1-qWGEjH-P5x"
      },
      "execution_count": 5,
      "outputs": []
    },
    {
      "cell_type": "markdown",
      "source": [
        "Inicializando o modelo"
      ],
      "metadata": {
        "id": "93m4OdOi_Nfs"
      }
    },
    {
      "cell_type": "code",
      "source": [
        "model = genai.GenerativeModel(model_name=\"gemini-1.0-pro\",\n",
        "                              generation_config=generation_config,\n",
        "                              safety_settings=safety_settings)"
      ],
      "metadata": {
        "id": "NhS-sXeT-ttp"
      },
      "execution_count": 6,
      "outputs": []
    },
    {
      "cell_type": "code",
      "source": [
        "response = model.generate_content(\"Vamos aprender conteúdo sobre IA. Me dê sugestôes?\")\n",
        "print(response.text)"
      ],
      "metadata": {
        "colab": {
          "base_uri": "https://localhost:8080/",
          "height": 694
        },
        "id": "pAi2Yx9WAM9i",
        "outputId": "56cc9f01-5b6f-4353-c4de-d8ead56f386b"
      },
      "execution_count": 7,
      "outputs": [
        {
          "output_type": "stream",
          "name": "stdout",
          "text": [
            "**Recursos Online:**\n",
            "\n",
            "* **Coursera:** Cursos gratuitos e pagos sobre IA, aprendizado de máquina e aprendizado profundo.\n",
            "* **edX:** Cursos online de universidades de renome, incluindo cursos sobre IA.\n",
            "* **MIT OpenCourseWare:** Material gratuito de cursos do MIT, incluindo IA e aprendizado de máquina.\n",
            "* **Stanford Online:** Cursos online da Universidade de Stanford, incluindo IA e aprendizado profundo.\n",
            "* **DeepLearning.AI:** Cursos especializados em aprendizado profundo e IA da Coursera.\n",
            "\n",
            "**Livros:**\n",
            "\n",
            "* **Inteligência Artificial: Uma Abordagem Moderna (3ª Edição)** por Stuart Russell e Peter Norvig\n",
            "* **Aprendizado de Máquina** por Tom Mitchell\n",
            "* **Aprendizado Profundo** por Ian Goodfellow, Yoshua Bengio e Aaron Courville\n",
            "* **Inteligência Artificial para Leigos** por John Paul Mueller e Luca Massaron\n",
            "* **Inteligência Artificial: Princípios e Técnicas** por Michael Negnevitsky\n",
            "\n",
            "**Artigos de Pesquisa:**\n",
            "\n",
            "* **Google AI Blog:** Artigos sobre os últimos avanços em IA do Google.\n",
            "* **OpenAI Blog:** Artigos sobre pesquisas e desenvolvimentos da OpenAI.\n",
            "* **Nature Machine Intelligence:** Revista científica dedicada à IA.\n",
            "* **IEEE Transactions on Neural Networks and Learning Systems:** Revista técnica que cobre pesquisas em IA e aprendizado de máquina.\n",
            "* **arXiv:** Repositório de artigos científicos pré-impressos, incluindo muitos sobre IA.\n",
            "\n",
            "**Ferramentas e Bibliotecas:**\n",
            "\n",
            "* **TensorFlow:** Biblioteca de aprendizado de máquina de código aberto do Google.\n",
            "* **PyTorch:** Biblioteca de aprendizado de máquina de código aberto do Facebook.\n",
            "* **scikit-learn:** Biblioteca de aprendizado de máquina em Python.\n",
            "* **Keras:** Biblioteca de aprendizado profundo de alto nível para TensorFlow.\n",
            "* **Jupyter Notebook:** Ambiente interativo para desenvolver e executar código de IA.\n",
            "\n",
            "**Comunidades:**\n",
            "\n",
            "* **Stack Overflow:** Fórum online para perguntas e respostas sobre programação, incluindo IA.\n",
            "* **Reddit r/MachineLearning:** Subreddit dedicado ao aprendizado de máquina e IA.\n",
            "* **Kaggle:** Comunidade online para competições e colaborações em ciência de dados e IA.\n",
            "* **Meetup:** Grupos locais que se reúnem para discutir e aprender sobre IA.\n",
            "* **Conferências:** Participe de conferências como NeurIPS, ICML e CVPR para se manter atualizado com os avanços em IA.\n"
          ]
        }
      ]
    },
    {
      "cell_type": "code",
      "source": [
        "chat = model.start_chat(history=[])"
      ],
      "metadata": {
        "id": "Ac_tlVyxAx-p"
      },
      "execution_count": 8,
      "outputs": []
    },
    {
      "cell_type": "code",
      "source": [
        "prompt = input(\"Esperando Prompt: \")\n",
        "\n",
        "while prompt != \"fim\":\n",
        "  response = chat.send_message(prompt)\n",
        "  print(\"Resposta: \", response.text, \"\\n\")\n",
        "  prompt = input(\"Esperando Prompt: \")"
      ],
      "metadata": {
        "colab": {
          "base_uri": "https://localhost:8080/",
          "height": 86
        },
        "id": "XvltkA5OBn-C",
        "outputId": "7e6265ae-176c-4253-df10-39527198387b"
      },
      "execution_count": 26,
      "outputs": [
        {
          "name": "stdout",
          "output_type": "stream",
          "text": [
            "Esperando Prompt: Quem foi o primeiro presidente do Brasil?\n",
            "Resposta:  Deodoro da Fonseca \n",
            "\n",
            "Esperando Prompt: fim\n"
          ]
        }
      ]
    },
    {
      "cell_type": "code",
      "source": [
        "#Melhorando a visualização\n",
        "#Código disponível em https://ai.google.dev/tutorials/python_quickstart#import_packages\n",
        "import textwrap\n",
        "from IPython.display import display\n",
        "from IPython.display import Markdown\n",
        "\n",
        "def to_markdown(text):\n",
        "  text = text.replace('*', ' ') # ('*', '  *')\n",
        "  return Markdown(textwrap.indent(text, '> ', predicate=lambda _: True))\n",
        "\n",
        "#Imprimindo o histórico\n",
        "for message in chat.history:\n",
        "  display(to_markdown(f'**{message.role}**: {message.parts[0].text}'))\n",
        "  print('-------------------------------------------')"
      ],
      "metadata": {
        "colab": {
          "base_uri": "https://localhost:8080/",
          "height": 411
        },
        "id": "hv4UTrj8Vp_A",
        "outputId": "11321832-2a25-44bb-c19c-30f6eaaa97f2"
      },
      "execution_count": 27,
      "outputs": [
        {
          "output_type": "display_data",
          "data": {
            "text/plain": [
              "<IPython.core.display.Markdown object>"
            ],
            "text/markdown": ">   user  : Quantas capitais tem o Brasil?"
          },
          "metadata": {}
        },
        {
          "output_type": "stream",
          "name": "stdout",
          "text": [
            "-------------------------------------------\n"
          ]
        },
        {
          "output_type": "display_data",
          "data": {
            "text/plain": [
              "<IPython.core.display.Markdown object>"
            ],
            "text/markdown": ">   model  : 1 (Brasília)"
          },
          "metadata": {}
        },
        {
          "output_type": "stream",
          "name": "stdout",
          "text": [
            "-------------------------------------------\n"
          ]
        },
        {
          "output_type": "display_data",
          "data": {
            "text/plain": [
              "<IPython.core.display.Markdown object>"
            ],
            "text/markdown": ">   user  : Como está o clima em Franca hoje?"
          },
          "metadata": {}
        },
        {
          "output_type": "stream",
          "name": "stdout",
          "text": [
            "-------------------------------------------\n"
          ]
        },
        {
          "output_type": "display_data",
          "data": {
            "text/plain": [
              "<IPython.core.display.Markdown object>"
            ],
            "text/markdown": ">   model  : Não tenho acesso a informações em tempo real, portanto, não posso fornecer informações sobre o clima atual em Franca. Recomendo verificar a previsão do tempo em um site ou aplicativo meteorológico confiável."
          },
          "metadata": {}
        },
        {
          "output_type": "stream",
          "name": "stdout",
          "text": [
            "-------------------------------------------\n"
          ]
        },
        {
          "output_type": "display_data",
          "data": {
            "text/plain": [
              "<IPython.core.display.Markdown object>"
            ],
            "text/markdown": ">   user  : Quem foi o primeiro presidente do Brasil?"
          },
          "metadata": {}
        },
        {
          "output_type": "stream",
          "name": "stdout",
          "text": [
            "-------------------------------------------\n"
          ]
        },
        {
          "output_type": "display_data",
          "data": {
            "text/plain": [
              "<IPython.core.display.Markdown object>"
            ],
            "text/markdown": ">   model  : Deodoro da Fonseca"
          },
          "metadata": {}
        },
        {
          "output_type": "stream",
          "name": "stdout",
          "text": [
            "-------------------------------------------\n"
          ]
        }
      ]
    }
  ]
}